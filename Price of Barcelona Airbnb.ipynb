{
 "cells": [
  {
   "cell_type": "code",
   "execution_count": 53,
   "id": "6c936036-b531-48dd-9924-42e1e057b539",
   "metadata": {},
   "outputs": [],
   "source": [
    "import matplotlib.pyplot as plt\n",
    "import seaborn as sns\n",
    "import numpy as np\n",
    "import pandas as pd\n",
    "\n",
    "from sklearn.model_selection import train_test_split, cross_validate\n",
    "from sklearn.pipeline import Pipeline, make_pipeline\n",
    "from sklearn.preprocessing import OneHotEncoder, StandardScaler\n",
    "from sklearn.linear_model import Ridge\n",
    "from sklearn.tree import DecisionTreeRegressor\n",
    "from sklearn.neighbors import KNeighborsRegressor\n",
    "from sklearn.metrics import mean_absolute_error"
   ]
  },
  {
   "cell_type": "markdown",
   "id": "62c29508-54a4-432d-8263-577d86d5e53c",
   "metadata": {
    "tags": []
   },
   "source": [
    "## Visualizing Airbnb Barcelona Prices\n",
    "The dataset is taken from kaggle.com : https://www.kaggle.com/datasets/thedevastator/airbnb-prices-in-european-cities. \n",
    "The dataset chosen is an Airbnb data from european cities. This project looks only at barcelona weekdays and weekends to determine what affects the price of an Airbnb in barcelona. Airbnb is a convenient place for travellers to stay and for residents to earn extra revenue from their property. There are many listings with low and high prices, but which aspect is important to determine the price of an Airbnb?\n",
    "This project is inspired by Airbnb Data Science project : https://mohamedirfansh.github.io/Airbnb-Data-Science-Project/."
   ]
  },
  {
   "cell_type": "code",
   "execution_count": 109,
   "id": "088af3b4-94cb-467e-811f-10826ea0cbc8",
   "metadata": {},
   "outputs": [
    {
     "name": "stdout",
     "output_type": "stream",
     "text": [
      "(2833, 19)\n"
     ]
    },
    {
     "data": {
      "text/html": [
       "<div>\n",
       "<style scoped>\n",
       "    .dataframe tbody tr th:only-of-type {\n",
       "        vertical-align: middle;\n",
       "    }\n",
       "\n",
       "    .dataframe tbody tr th {\n",
       "        vertical-align: top;\n",
       "    }\n",
       "\n",
       "    .dataframe thead th {\n",
       "        text-align: right;\n",
       "    }\n",
       "</style>\n",
       "<table border=\"1\" class=\"dataframe\">\n",
       "  <thead>\n",
       "    <tr style=\"text-align: right;\">\n",
       "      <th></th>\n",
       "      <th>realSum</th>\n",
       "      <th>room_type</th>\n",
       "      <th>room_shared</th>\n",
       "      <th>room_private</th>\n",
       "      <th>person_capacity</th>\n",
       "      <th>host_is_superhost</th>\n",
       "      <th>multi</th>\n",
       "      <th>biz</th>\n",
       "      <th>cleanliness_rating</th>\n",
       "      <th>guest_satisfaction_overall</th>\n",
       "      <th>bedrooms</th>\n",
       "      <th>dist</th>\n",
       "      <th>metro_dist</th>\n",
       "      <th>attr_index</th>\n",
       "      <th>attr_index_norm</th>\n",
       "      <th>rest_index</th>\n",
       "      <th>rest_index_norm</th>\n",
       "      <th>lng</th>\n",
       "      <th>lat</th>\n",
       "    </tr>\n",
       "  </thead>\n",
       "  <tbody>\n",
       "    <tr>\n",
       "      <th>0</th>\n",
       "      <td>474.317499</td>\n",
       "      <td>Entire home/apt</td>\n",
       "      <td>False</td>\n",
       "      <td>False</td>\n",
       "      <td>4.0</td>\n",
       "      <td>False</td>\n",
       "      <td>0</td>\n",
       "      <td>1</td>\n",
       "      <td>10.0</td>\n",
       "      <td>91.0</td>\n",
       "      <td>1</td>\n",
       "      <td>1.111996</td>\n",
       "      <td>0.630491</td>\n",
       "      <td>526.469420</td>\n",
       "      <td>17.942927</td>\n",
       "      <td>915.587083</td>\n",
       "      <td>20.154890</td>\n",
       "      <td>2.17556</td>\n",
       "      <td>41.39624</td>\n",
       "    </tr>\n",
       "    <tr>\n",
       "      <th>1</th>\n",
       "      <td>169.897829</td>\n",
       "      <td>Private room</td>\n",
       "      <td>False</td>\n",
       "      <td>True</td>\n",
       "      <td>2.0</td>\n",
       "      <td>True</td>\n",
       "      <td>1</td>\n",
       "      <td>0</td>\n",
       "      <td>10.0</td>\n",
       "      <td>88.0</td>\n",
       "      <td>1</td>\n",
       "      <td>1.751839</td>\n",
       "      <td>0.124017</td>\n",
       "      <td>320.127526</td>\n",
       "      <td>10.910462</td>\n",
       "      <td>794.277350</td>\n",
       "      <td>17.484489</td>\n",
       "      <td>2.14906</td>\n",
       "      <td>41.38714</td>\n",
       "    </tr>\n",
       "    <tr>\n",
       "      <th>2</th>\n",
       "      <td>161.984779</td>\n",
       "      <td>Private room</td>\n",
       "      <td>False</td>\n",
       "      <td>True</td>\n",
       "      <td>4.0</td>\n",
       "      <td>False</td>\n",
       "      <td>0</td>\n",
       "      <td>1</td>\n",
       "      <td>9.0</td>\n",
       "      <td>88.0</td>\n",
       "      <td>1</td>\n",
       "      <td>1.670493</td>\n",
       "      <td>0.080322</td>\n",
       "      <td>344.073936</td>\n",
       "      <td>11.726595</td>\n",
       "      <td>840.673617</td>\n",
       "      <td>18.505814</td>\n",
       "      <td>2.15357</td>\n",
       "      <td>41.37859</td>\n",
       "    </tr>\n",
       "    <tr>\n",
       "      <th>3</th>\n",
       "      <td>367.956804</td>\n",
       "      <td>Entire home/apt</td>\n",
       "      <td>False</td>\n",
       "      <td>False</td>\n",
       "      <td>3.0</td>\n",
       "      <td>False</td>\n",
       "      <td>0</td>\n",
       "      <td>1</td>\n",
       "      <td>10.0</td>\n",
       "      <td>91.0</td>\n",
       "      <td>1</td>\n",
       "      <td>1.475847</td>\n",
       "      <td>0.093107</td>\n",
       "      <td>400.057449</td>\n",
       "      <td>13.634603</td>\n",
       "      <td>946.589884</td>\n",
       "      <td>20.837357</td>\n",
       "      <td>2.16839</td>\n",
       "      <td>41.37390</td>\n",
       "    </tr>\n",
       "    <tr>\n",
       "      <th>4</th>\n",
       "      <td>196.895292</td>\n",
       "      <td>Private room</td>\n",
       "      <td>False</td>\n",
       "      <td>True</td>\n",
       "      <td>3.0</td>\n",
       "      <td>False</td>\n",
       "      <td>1</td>\n",
       "      <td>0</td>\n",
       "      <td>9.0</td>\n",
       "      <td>91.0</td>\n",
       "      <td>1</td>\n",
       "      <td>1.855452</td>\n",
       "      <td>0.272486</td>\n",
       "      <td>346.042245</td>\n",
       "      <td>11.793678</td>\n",
       "      <td>792.296039</td>\n",
       "      <td>17.440874</td>\n",
       "      <td>2.15238</td>\n",
       "      <td>41.37699</td>\n",
       "    </tr>\n",
       "    <tr>\n",
       "      <th>...</th>\n",
       "      <td>...</td>\n",
       "      <td>...</td>\n",
       "      <td>...</td>\n",
       "      <td>...</td>\n",
       "      <td>...</td>\n",
       "      <td>...</td>\n",
       "      <td>...</td>\n",
       "      <td>...</td>\n",
       "      <td>...</td>\n",
       "      <td>...</td>\n",
       "      <td>...</td>\n",
       "      <td>...</td>\n",
       "      <td>...</td>\n",
       "      <td>...</td>\n",
       "      <td>...</td>\n",
       "      <td>...</td>\n",
       "      <td>...</td>\n",
       "      <td>...</td>\n",
       "      <td>...</td>\n",
       "    </tr>\n",
       "    <tr>\n",
       "      <th>2828</th>\n",
       "      <td>327.460609</td>\n",
       "      <td>Private room</td>\n",
       "      <td>False</td>\n",
       "      <td>True</td>\n",
       "      <td>2.0</td>\n",
       "      <td>True</td>\n",
       "      <td>0</td>\n",
       "      <td>0</td>\n",
       "      <td>9.0</td>\n",
       "      <td>96.0</td>\n",
       "      <td>1</td>\n",
       "      <td>2.608873</td>\n",
       "      <td>0.932342</td>\n",
       "      <td>271.642736</td>\n",
       "      <td>10.488440</td>\n",
       "      <td>537.512628</td>\n",
       "      <td>11.807347</td>\n",
       "      <td>2.19672</td>\n",
       "      <td>41.39929</td>\n",
       "    </tr>\n",
       "    <tr>\n",
       "      <th>2829</th>\n",
       "      <td>242.977169</td>\n",
       "      <td>Private room</td>\n",
       "      <td>False</td>\n",
       "      <td>True</td>\n",
       "      <td>2.0</td>\n",
       "      <td>False</td>\n",
       "      <td>0</td>\n",
       "      <td>0</td>\n",
       "      <td>9.0</td>\n",
       "      <td>80.0</td>\n",
       "      <td>0</td>\n",
       "      <td>1.859134</td>\n",
       "      <td>0.555944</td>\n",
       "      <td>343.045595</td>\n",
       "      <td>13.245387</td>\n",
       "      <td>679.561854</td>\n",
       "      <td>14.927691</td>\n",
       "      <td>2.19099</td>\n",
       "      <td>41.39269</td>\n",
       "    </tr>\n",
       "    <tr>\n",
       "      <th>2830</th>\n",
       "      <td>138.943841</td>\n",
       "      <td>Private room</td>\n",
       "      <td>False</td>\n",
       "      <td>True</td>\n",
       "      <td>2.0</td>\n",
       "      <td>False</td>\n",
       "      <td>0</td>\n",
       "      <td>0</td>\n",
       "      <td>10.0</td>\n",
       "      <td>96.0</td>\n",
       "      <td>2</td>\n",
       "      <td>2.670450</td>\n",
       "      <td>0.968673</td>\n",
       "      <td>266.091811</td>\n",
       "      <td>10.274112</td>\n",
       "      <td>534.080063</td>\n",
       "      <td>11.731945</td>\n",
       "      <td>2.19738</td>\n",
       "      <td>41.39954</td>\n",
       "    </tr>\n",
       "    <tr>\n",
       "      <th>2831</th>\n",
       "      <td>185.258454</td>\n",
       "      <td>Private room</td>\n",
       "      <td>False</td>\n",
       "      <td>True</td>\n",
       "      <td>2.0</td>\n",
       "      <td>False</td>\n",
       "      <td>0</td>\n",
       "      <td>0</td>\n",
       "      <td>2.0</td>\n",
       "      <td>60.0</td>\n",
       "      <td>1</td>\n",
       "      <td>2.266090</td>\n",
       "      <td>0.387429</td>\n",
       "      <td>290.526738</td>\n",
       "      <td>11.217573</td>\n",
       "      <td>627.521382</td>\n",
       "      <td>13.784536</td>\n",
       "      <td>2.19679</td>\n",
       "      <td>41.39029</td>\n",
       "    </tr>\n",
       "    <tr>\n",
       "      <th>2832</th>\n",
       "      <td>254.614006</td>\n",
       "      <td>Private room</td>\n",
       "      <td>False</td>\n",
       "      <td>True</td>\n",
       "      <td>2.0</td>\n",
       "      <td>False</td>\n",
       "      <td>0</td>\n",
       "      <td>0</td>\n",
       "      <td>10.0</td>\n",
       "      <td>100.0</td>\n",
       "      <td>1</td>\n",
       "      <td>2.394845</td>\n",
       "      <td>0.954950</td>\n",
       "      <td>284.900718</td>\n",
       "      <td>11.000346</td>\n",
       "      <td>564.678656</td>\n",
       "      <td>12.404093</td>\n",
       "      <td>2.19590</td>\n",
       "      <td>41.39637</td>\n",
       "    </tr>\n",
       "  </tbody>\n",
       "</table>\n",
       "<p>2833 rows × 19 columns</p>\n",
       "</div>"
      ],
      "text/plain": [
       "         realSum        room_type  room_shared  room_private  person_capacity  \\\n",
       "0     474.317499  Entire home/apt        False         False              4.0   \n",
       "1     169.897829     Private room        False          True              2.0   \n",
       "2     161.984779     Private room        False          True              4.0   \n",
       "3     367.956804  Entire home/apt        False         False              3.0   \n",
       "4     196.895292     Private room        False          True              3.0   \n",
       "...          ...              ...          ...           ...              ...   \n",
       "2828  327.460609     Private room        False          True              2.0   \n",
       "2829  242.977169     Private room        False          True              2.0   \n",
       "2830  138.943841     Private room        False          True              2.0   \n",
       "2831  185.258454     Private room        False          True              2.0   \n",
       "2832  254.614006     Private room        False          True              2.0   \n",
       "\n",
       "      host_is_superhost  multi  biz  cleanliness_rating  \\\n",
       "0                 False      0    1                10.0   \n",
       "1                  True      1    0                10.0   \n",
       "2                 False      0    1                 9.0   \n",
       "3                 False      0    1                10.0   \n",
       "4                 False      1    0                 9.0   \n",
       "...                 ...    ...  ...                 ...   \n",
       "2828               True      0    0                 9.0   \n",
       "2829              False      0    0                 9.0   \n",
       "2830              False      0    0                10.0   \n",
       "2831              False      0    0                 2.0   \n",
       "2832              False      0    0                10.0   \n",
       "\n",
       "      guest_satisfaction_overall  bedrooms      dist  metro_dist  attr_index  \\\n",
       "0                           91.0         1  1.111996    0.630491  526.469420   \n",
       "1                           88.0         1  1.751839    0.124017  320.127526   \n",
       "2                           88.0         1  1.670493    0.080322  344.073936   \n",
       "3                           91.0         1  1.475847    0.093107  400.057449   \n",
       "4                           91.0         1  1.855452    0.272486  346.042245   \n",
       "...                          ...       ...       ...         ...         ...   \n",
       "2828                        96.0         1  2.608873    0.932342  271.642736   \n",
       "2829                        80.0         0  1.859134    0.555944  343.045595   \n",
       "2830                        96.0         2  2.670450    0.968673  266.091811   \n",
       "2831                        60.0         1  2.266090    0.387429  290.526738   \n",
       "2832                       100.0         1  2.394845    0.954950  284.900718   \n",
       "\n",
       "      attr_index_norm  rest_index  rest_index_norm      lng       lat  \n",
       "0           17.942927  915.587083        20.154890  2.17556  41.39624  \n",
       "1           10.910462  794.277350        17.484489  2.14906  41.38714  \n",
       "2           11.726595  840.673617        18.505814  2.15357  41.37859  \n",
       "3           13.634603  946.589884        20.837357  2.16839  41.37390  \n",
       "4           11.793678  792.296039        17.440874  2.15238  41.37699  \n",
       "...               ...         ...              ...      ...       ...  \n",
       "2828        10.488440  537.512628        11.807347  2.19672  41.39929  \n",
       "2829        13.245387  679.561854        14.927691  2.19099  41.39269  \n",
       "2830        10.274112  534.080063        11.731945  2.19738  41.39954  \n",
       "2831        11.217573  627.521382        13.784536  2.19679  41.39029  \n",
       "2832        11.000346  564.678656        12.404093  2.19590  41.39637  \n",
       "\n",
       "[2833 rows x 19 columns]"
      ]
     },
     "execution_count": 109,
     "metadata": {},
     "output_type": "execute_result"
    }
   ],
   "source": [
    "data = pd.concat(map(pd.read_csv, ['barcelona_weekdays.csv', 'barcelona_weekends.csv']), ignore_index=True) # combining the csv\n",
    "df = data.iloc[: , 1:] # delete the first column\n",
    "print(df.shape)\n",
    "df"
   ]
  },
  {
   "cell_type": "code",
   "execution_count": 110,
   "id": "fc28cbee-def0-492c-8bb7-0fe5fb00790e",
   "metadata": {},
   "outputs": [
    {
     "name": "stdout",
     "output_type": "stream",
     "text": [
      "['Entire home/apt' 'Private room' 'Shared room']\n"
     ]
    }
   ],
   "source": [
    "# Look for unique values of the categorical columns\n",
    "print(df[\"room_type\"].unique())\n",
    "# renaming biz column to business\n",
    "df = df.rename(columns={\"biz\": \"business\"})\n",
    "# dropping attr_index, attr_index_norm, rest_index, and rest_index_norm since no description of the column name can be found\n",
    "df = df.drop(['attr_index', 'attr_index_norm', 'rest_index', 'rest_index_norm'], axis=1)"
   ]
  },
  {
   "cell_type": "code",
   "execution_count": 111,
   "id": "1be62d0c-4a2f-44d9-a29a-42f600fd65ec",
   "metadata": {},
   "outputs": [
    {
     "name": "stdout",
     "output_type": "stream",
     "text": [
      "<class 'pandas.core.frame.DataFrame'>\n",
      "RangeIndex: 2833 entries, 0 to 2832\n",
      "Data columns (total 15 columns):\n",
      " #   Column                      Non-Null Count  Dtype  \n",
      "---  ------                      --------------  -----  \n",
      " 0   realSum                     2833 non-null   float64\n",
      " 1   room_type                   2833 non-null   object \n",
      " 2   room_shared                 2833 non-null   bool   \n",
      " 3   room_private                2833 non-null   bool   \n",
      " 4   person_capacity             2833 non-null   float64\n",
      " 5   host_is_superhost           2833 non-null   bool   \n",
      " 6   multi                       2833 non-null   int64  \n",
      " 7   business                    2833 non-null   int64  \n",
      " 8   cleanliness_rating          2833 non-null   float64\n",
      " 9   guest_satisfaction_overall  2833 non-null   float64\n",
      " 10  bedrooms                    2833 non-null   int64  \n",
      " 11  dist                        2833 non-null   float64\n",
      " 12  metro_dist                  2833 non-null   float64\n",
      " 13  lng                         2833 non-null   float64\n",
      " 14  lat                         2833 non-null   float64\n",
      "dtypes: bool(3), float64(8), int64(3), object(1)\n",
      "memory usage: 274.0+ KB\n"
     ]
    }
   ],
   "source": [
    "df.info()"
   ]
  },
  {
   "cell_type": "markdown",
   "id": "60a8698e-7607-4614-91bc-6945d56b8ed8",
   "metadata": {},
   "source": [
    "### Finding Outliers"
   ]
  },
  {
   "cell_type": "code",
   "execution_count": 112,
   "id": "1da1b0cb-2c41-4d2f-8e7f-b1fc2a2611c9",
   "metadata": {},
   "outputs": [
    {
     "data": {
      "text/html": [
       "<div>\n",
       "<style scoped>\n",
       "    .dataframe tbody tr th:only-of-type {\n",
       "        vertical-align: middle;\n",
       "    }\n",
       "\n",
       "    .dataframe tbody tr th {\n",
       "        vertical-align: top;\n",
       "    }\n",
       "\n",
       "    .dataframe thead th {\n",
       "        text-align: right;\n",
       "    }\n",
       "</style>\n",
       "<table border=\"1\" class=\"dataframe\">\n",
       "  <thead>\n",
       "    <tr style=\"text-align: right;\">\n",
       "      <th></th>\n",
       "      <th>realSum</th>\n",
       "      <th>person_capacity</th>\n",
       "      <th>multi</th>\n",
       "      <th>business</th>\n",
       "      <th>cleanliness_rating</th>\n",
       "      <th>guest_satisfaction_overall</th>\n",
       "      <th>bedrooms</th>\n",
       "      <th>dist</th>\n",
       "      <th>metro_dist</th>\n",
       "      <th>lng</th>\n",
       "      <th>lat</th>\n",
       "    </tr>\n",
       "  </thead>\n",
       "  <tbody>\n",
       "    <tr>\n",
       "      <th>count</th>\n",
       "      <td>2833.000000</td>\n",
       "      <td>2833.000000</td>\n",
       "      <td>2833.000000</td>\n",
       "      <td>2833.000000</td>\n",
       "      <td>2833.000000</td>\n",
       "      <td>2833.000000</td>\n",
       "      <td>2833.000000</td>\n",
       "      <td>2833.000000</td>\n",
       "      <td>2833.000000</td>\n",
       "      <td>2833.000000</td>\n",
       "      <td>2833.000000</td>\n",
       "    </tr>\n",
       "    <tr>\n",
       "      <th>mean</th>\n",
       "      <td>293.753706</td>\n",
       "      <td>2.616661</td>\n",
       "      <td>0.385104</td>\n",
       "      <td>0.325450</td>\n",
       "      <td>9.291564</td>\n",
       "      <td>91.109072</td>\n",
       "      <td>1.161313</td>\n",
       "      <td>2.116982</td>\n",
       "      <td>0.441248</td>\n",
       "      <td>2.169379</td>\n",
       "      <td>41.393495</td>\n",
       "    </tr>\n",
       "    <tr>\n",
       "      <th>std</th>\n",
       "      <td>355.467888</td>\n",
       "      <td>1.153124</td>\n",
       "      <td>0.486706</td>\n",
       "      <td>0.468625</td>\n",
       "      <td>1.014577</td>\n",
       "      <td>8.607153</td>\n",
       "      <td>0.517108</td>\n",
       "      <td>1.377859</td>\n",
       "      <td>0.284540</td>\n",
       "      <td>0.019545</td>\n",
       "      <td>0.016138</td>\n",
       "    </tr>\n",
       "    <tr>\n",
       "      <th>min</th>\n",
       "      <td>69.588289</td>\n",
       "      <td>2.000000</td>\n",
       "      <td>0.000000</td>\n",
       "      <td>0.000000</td>\n",
       "      <td>2.000000</td>\n",
       "      <td>20.000000</td>\n",
       "      <td>0.000000</td>\n",
       "      <td>0.095828</td>\n",
       "      <td>0.012994</td>\n",
       "      <td>2.093470</td>\n",
       "      <td>41.349540</td>\n",
       "    </tr>\n",
       "    <tr>\n",
       "      <th>25%</th>\n",
       "      <td>160.821095</td>\n",
       "      <td>2.000000</td>\n",
       "      <td>0.000000</td>\n",
       "      <td>0.000000</td>\n",
       "      <td>9.000000</td>\n",
       "      <td>88.000000</td>\n",
       "      <td>1.000000</td>\n",
       "      <td>1.070443</td>\n",
       "      <td>0.256139</td>\n",
       "      <td>2.156640</td>\n",
       "      <td>41.381180</td>\n",
       "    </tr>\n",
       "    <tr>\n",
       "      <th>50%</th>\n",
       "      <td>208.299393</td>\n",
       "      <td>2.000000</td>\n",
       "      <td>0.000000</td>\n",
       "      <td>0.000000</td>\n",
       "      <td>10.000000</td>\n",
       "      <td>93.000000</td>\n",
       "      <td>1.000000</td>\n",
       "      <td>1.732003</td>\n",
       "      <td>0.376994</td>\n",
       "      <td>2.170960</td>\n",
       "      <td>41.390390</td>\n",
       "    </tr>\n",
       "    <tr>\n",
       "      <th>75%</th>\n",
       "      <td>329.787977</td>\n",
       "      <td>3.000000</td>\n",
       "      <td>1.000000</td>\n",
       "      <td>1.000000</td>\n",
       "      <td>10.000000</td>\n",
       "      <td>97.000000</td>\n",
       "      <td>1.000000</td>\n",
       "      <td>2.967922</td>\n",
       "      <td>0.555944</td>\n",
       "      <td>2.179730</td>\n",
       "      <td>41.404260</td>\n",
       "    </tr>\n",
       "    <tr>\n",
       "      <th>max</th>\n",
       "      <td>6943.700980</td>\n",
       "      <td>6.000000</td>\n",
       "      <td>1.000000</td>\n",
       "      <td>1.000000</td>\n",
       "      <td>10.000000</td>\n",
       "      <td>100.000000</td>\n",
       "      <td>6.000000</td>\n",
       "      <td>8.443967</td>\n",
       "      <td>4.039111</td>\n",
       "      <td>2.225520</td>\n",
       "      <td>41.463080</td>\n",
       "    </tr>\n",
       "  </tbody>\n",
       "</table>\n",
       "</div>"
      ],
      "text/plain": [
       "           realSum  person_capacity        multi     business  \\\n",
       "count  2833.000000      2833.000000  2833.000000  2833.000000   \n",
       "mean    293.753706         2.616661     0.385104     0.325450   \n",
       "std     355.467888         1.153124     0.486706     0.468625   \n",
       "min      69.588289         2.000000     0.000000     0.000000   \n",
       "25%     160.821095         2.000000     0.000000     0.000000   \n",
       "50%     208.299393         2.000000     0.000000     0.000000   \n",
       "75%     329.787977         3.000000     1.000000     1.000000   \n",
       "max    6943.700980         6.000000     1.000000     1.000000   \n",
       "\n",
       "       cleanliness_rating  guest_satisfaction_overall     bedrooms  \\\n",
       "count         2833.000000                 2833.000000  2833.000000   \n",
       "mean             9.291564                   91.109072     1.161313   \n",
       "std              1.014577                    8.607153     0.517108   \n",
       "min              2.000000                   20.000000     0.000000   \n",
       "25%              9.000000                   88.000000     1.000000   \n",
       "50%             10.000000                   93.000000     1.000000   \n",
       "75%             10.000000                   97.000000     1.000000   \n",
       "max             10.000000                  100.000000     6.000000   \n",
       "\n",
       "              dist   metro_dist          lng          lat  \n",
       "count  2833.000000  2833.000000  2833.000000  2833.000000  \n",
       "mean      2.116982     0.441248     2.169379    41.393495  \n",
       "std       1.377859     0.284540     0.019545     0.016138  \n",
       "min       0.095828     0.012994     2.093470    41.349540  \n",
       "25%       1.070443     0.256139     2.156640    41.381180  \n",
       "50%       1.732003     0.376994     2.170960    41.390390  \n",
       "75%       2.967922     0.555944     2.179730    41.404260  \n",
       "max       8.443967     4.039111     2.225520    41.463080  "
      ]
     },
     "execution_count": 112,
     "metadata": {},
     "output_type": "execute_result"
    }
   ],
   "source": [
    "df.describe()"
   ]
  },
  {
   "cell_type": "markdown",
   "id": "b6fcd63a",
   "metadata": {},
   "source": [
    "#### Dealing with outliers"
   ]
  },
  {
   "cell_type": "markdown",
   "id": "8b461740-95f4-4e6f-b2cb-fa343921ed14",
   "metadata": {},
   "source": [
    "- realSum has max of 6943.7, but the mean is only 293.75 with std of 355. The range of the prices are too large.\n",
    "\n",
    "To deal with the outlier, we can look into the price per person. The bedroom column has a minimum of zero, so we are unable to use the column."
   ]
  },
  {
   "cell_type": "code",
   "execution_count": 113,
   "id": "c233f30d",
   "metadata": {},
   "outputs": [
    {
     "data": {
      "text/html": [
       "<div>\n",
       "<style scoped>\n",
       "    .dataframe tbody tr th:only-of-type {\n",
       "        vertical-align: middle;\n",
       "    }\n",
       "\n",
       "    .dataframe tbody tr th {\n",
       "        vertical-align: top;\n",
       "    }\n",
       "\n",
       "    .dataframe thead th {\n",
       "        text-align: right;\n",
       "    }\n",
       "</style>\n",
       "<table border=\"1\" class=\"dataframe\">\n",
       "  <thead>\n",
       "    <tr style=\"text-align: right;\">\n",
       "      <th></th>\n",
       "      <th>realSum</th>\n",
       "      <th>person_capacity</th>\n",
       "      <th>multi</th>\n",
       "      <th>business</th>\n",
       "      <th>cleanliness_rating</th>\n",
       "      <th>guest_satisfaction_overall</th>\n",
       "      <th>bedrooms</th>\n",
       "      <th>dist</th>\n",
       "      <th>metro_dist</th>\n",
       "      <th>lng</th>\n",
       "      <th>lat</th>\n",
       "      <th>price_per_person</th>\n",
       "    </tr>\n",
       "  </thead>\n",
       "  <tbody>\n",
       "    <tr>\n",
       "      <th>count</th>\n",
       "      <td>2833.000000</td>\n",
       "      <td>2833.000000</td>\n",
       "      <td>2833.000000</td>\n",
       "      <td>2833.000000</td>\n",
       "      <td>2833.000000</td>\n",
       "      <td>2833.000000</td>\n",
       "      <td>2833.000000</td>\n",
       "      <td>2833.000000</td>\n",
       "      <td>2833.000000</td>\n",
       "      <td>2833.000000</td>\n",
       "      <td>2833.000000</td>\n",
       "      <td>2833.000000</td>\n",
       "    </tr>\n",
       "    <tr>\n",
       "      <th>mean</th>\n",
       "      <td>293.753706</td>\n",
       "      <td>2.616661</td>\n",
       "      <td>0.385104</td>\n",
       "      <td>0.325450</td>\n",
       "      <td>9.291564</td>\n",
       "      <td>91.109072</td>\n",
       "      <td>1.161313</td>\n",
       "      <td>2.116982</td>\n",
       "      <td>0.441248</td>\n",
       "      <td>2.169379</td>\n",
       "      <td>41.393495</td>\n",
       "      <td>112.139277</td>\n",
       "    </tr>\n",
       "    <tr>\n",
       "      <th>std</th>\n",
       "      <td>355.467888</td>\n",
       "      <td>1.153124</td>\n",
       "      <td>0.486706</td>\n",
       "      <td>0.468625</td>\n",
       "      <td>1.014577</td>\n",
       "      <td>8.607153</td>\n",
       "      <td>0.517108</td>\n",
       "      <td>1.377859</td>\n",
       "      <td>0.284540</td>\n",
       "      <td>0.019545</td>\n",
       "      <td>0.016138</td>\n",
       "      <td>148.733425</td>\n",
       "    </tr>\n",
       "    <tr>\n",
       "      <th>min</th>\n",
       "      <td>69.588289</td>\n",
       "      <td>2.000000</td>\n",
       "      <td>0.000000</td>\n",
       "      <td>0.000000</td>\n",
       "      <td>2.000000</td>\n",
       "      <td>20.000000</td>\n",
       "      <td>0.000000</td>\n",
       "      <td>0.095828</td>\n",
       "      <td>0.012994</td>\n",
       "      <td>2.093470</td>\n",
       "      <td>41.349540</td>\n",
       "      <td>20.248097</td>\n",
       "    </tr>\n",
       "    <tr>\n",
       "      <th>25%</th>\n",
       "      <td>160.821095</td>\n",
       "      <td>2.000000</td>\n",
       "      <td>0.000000</td>\n",
       "      <td>0.000000</td>\n",
       "      <td>9.000000</td>\n",
       "      <td>88.000000</td>\n",
       "      <td>1.000000</td>\n",
       "      <td>1.070443</td>\n",
       "      <td>0.256139</td>\n",
       "      <td>2.156640</td>\n",
       "      <td>41.381180</td>\n",
       "      <td>73.273287</td>\n",
       "    </tr>\n",
       "    <tr>\n",
       "      <th>50%</th>\n",
       "      <td>208.299393</td>\n",
       "      <td>2.000000</td>\n",
       "      <td>0.000000</td>\n",
       "      <td>0.000000</td>\n",
       "      <td>10.000000</td>\n",
       "      <td>93.000000</td>\n",
       "      <td>1.000000</td>\n",
       "      <td>1.732003</td>\n",
       "      <td>0.376994</td>\n",
       "      <td>2.170960</td>\n",
       "      <td>41.390390</td>\n",
       "      <td>94.258384</td>\n",
       "    </tr>\n",
       "    <tr>\n",
       "      <th>75%</th>\n",
       "      <td>329.787977</td>\n",
       "      <td>3.000000</td>\n",
       "      <td>1.000000</td>\n",
       "      <td>1.000000</td>\n",
       "      <td>10.000000</td>\n",
       "      <td>97.000000</td>\n",
       "      <td>1.000000</td>\n",
       "      <td>2.967922</td>\n",
       "      <td>0.555944</td>\n",
       "      <td>2.179730</td>\n",
       "      <td>41.404260</td>\n",
       "      <td>122.361347</td>\n",
       "    </tr>\n",
       "    <tr>\n",
       "      <th>max</th>\n",
       "      <td>6943.700980</td>\n",
       "      <td>6.000000</td>\n",
       "      <td>1.000000</td>\n",
       "      <td>1.000000</td>\n",
       "      <td>10.000000</td>\n",
       "      <td>100.000000</td>\n",
       "      <td>6.000000</td>\n",
       "      <td>8.443967</td>\n",
       "      <td>4.039111</td>\n",
       "      <td>2.225520</td>\n",
       "      <td>41.463080</td>\n",
       "      <td>3471.850490</td>\n",
       "    </tr>\n",
       "  </tbody>\n",
       "</table>\n",
       "</div>"
      ],
      "text/plain": [
       "           realSum  person_capacity        multi     business  \\\n",
       "count  2833.000000      2833.000000  2833.000000  2833.000000   \n",
       "mean    293.753706         2.616661     0.385104     0.325450   \n",
       "std     355.467888         1.153124     0.486706     0.468625   \n",
       "min      69.588289         2.000000     0.000000     0.000000   \n",
       "25%     160.821095         2.000000     0.000000     0.000000   \n",
       "50%     208.299393         2.000000     0.000000     0.000000   \n",
       "75%     329.787977         3.000000     1.000000     1.000000   \n",
       "max    6943.700980         6.000000     1.000000     1.000000   \n",
       "\n",
       "       cleanliness_rating  guest_satisfaction_overall     bedrooms  \\\n",
       "count         2833.000000                 2833.000000  2833.000000   \n",
       "mean             9.291564                   91.109072     1.161313   \n",
       "std              1.014577                    8.607153     0.517108   \n",
       "min              2.000000                   20.000000     0.000000   \n",
       "25%              9.000000                   88.000000     1.000000   \n",
       "50%             10.000000                   93.000000     1.000000   \n",
       "75%             10.000000                   97.000000     1.000000   \n",
       "max             10.000000                  100.000000     6.000000   \n",
       "\n",
       "              dist   metro_dist          lng          lat  price_per_person  \n",
       "count  2833.000000  2833.000000  2833.000000  2833.000000       2833.000000  \n",
       "mean      2.116982     0.441248     2.169379    41.393495        112.139277  \n",
       "std       1.377859     0.284540     0.019545     0.016138        148.733425  \n",
       "min       0.095828     0.012994     2.093470    41.349540         20.248097  \n",
       "25%       1.070443     0.256139     2.156640    41.381180         73.273287  \n",
       "50%       1.732003     0.376994     2.170960    41.390390         94.258384  \n",
       "75%       2.967922     0.555944     2.179730    41.404260        122.361347  \n",
       "max       8.443967     4.039111     2.225520    41.463080       3471.850490  "
      ]
     },
     "execution_count": 113,
     "metadata": {},
     "output_type": "execute_result"
    }
   ],
   "source": [
    "df[\"price_per_person\"] = df[\"realSum\"]/df[\"person_capacity\"]\n",
    "df.describe()"
   ]
  },
  {
   "cell_type": "code",
   "execution_count": 114,
   "id": "28bb3f5f",
   "metadata": {},
   "outputs": [
    {
     "data": {
      "image/png": "[encoded data removed]",
      "text/plain": [
       "<Figure size 288x720 with 1 Axes>"
      ]
     },
     "metadata": {
      "needs_background": "light"
     },
     "output_type": "display_data"
    }
   ],
   "source": [
    "# Visualize outliers for price per bedroom\n",
    "plt.figure(figsize=(4, 10))\n",
    "plt.boxplot(df['price_per_person'])\n",
    "plt.title('Boxplot of Price per Person')\n",
    "plt.show()"
   ]
  },
  {
   "cell_type": "code",
   "execution_count": 117,
   "id": "147d6acb",
   "metadata": {},
   "outputs": [
    {
     "name": "stdout",
     "output_type": "stream",
     "text": [
      "195.99343682360882\n"
     ]
    }
   ],
   "source": [
    "Q1 = df['price_per_person'].quantile(0.25)\n",
    "Q3 = df['price_per_person'].quantile(0.75)\n",
    "IQR = Q3 - Q1\n",
    "threshold = Q3 + 1.5 * IQR\n",
    "print(threshold)"
   ]
  },
  {
   "cell_type": "code",
   "execution_count": 118,
   "id": "434f804f-e2ec-4c06-9cc9-4c0e0c65d2e2",
   "metadata": {},
   "outputs": [
    {
     "name": "stdout",
     "output_type": "stream",
     "text": [
      "(2683, 16)\n"
     ]
    }
   ],
   "source": [
    "row = df.loc[df['price_per_person'] >= 196].index\n",
    "df = df.drop(row)\n",
    "print(df.shape)"
   ]
  },
  {
   "cell_type": "code",
   "execution_count": 119,
   "id": "30e01935",
   "metadata": {},
   "outputs": [
    {
     "data": {
      "image/png": "[encoded data removed]",
      "text/plain": [
       "<Figure size 288x648 with 1 Axes>"
      ]
     },
     "metadata": {
      "needs_background": "light"
     },
     "output_type": "display_data"
    }
   ],
   "source": [
    "# Visualize outliers for price per bedroom\n",
    "plt.figure(figsize=(4, 9))\n",
    "plt.boxplot(df['price_per_person'])\n",
    "plt.title('Boxplot of Price per Person')\n",
    "plt.show()"
   ]
  },
  {
   "cell_type": "markdown",
   "id": "7fa3ae50",
   "metadata": {},
   "source": [
    "Previously, we have 2833 rows so we removed 150 outliers."
   ]
  },
  {
   "cell_type": "code",
   "execution_count": 120,
   "id": "4ad4d9a7",
   "metadata": {},
   "outputs": [],
   "source": [
    "df = df.drop(columns=['price_per_person'])"
   ]
  },
  {
   "cell_type": "markdown",
   "id": "42ae77c5-0d2e-4d1a-bfcd-64662428c579",
   "metadata": {},
   "source": [
    "### Dataset Explanation"
   ]
  },
  {
   "cell_type": "markdown",
   "id": "26437f17",
   "metadata": {},
   "source": [
    "#### Columns of the dataset:\n",
    "- realSum - the total price of the listing (Numeric)\n",
    "- room_type - the type of room being offered (Categorical : 'Entire home/apt' 'Private room' 'Shared room')\n",
    "- room_shared - Whether the room is shared or not (Boolean)\n",
    "- room_private - Whether the room is private or not (Boolean)\n",
    "- person_capacity - the maximum number of people that can stay in the room (Numeric)\n",
    "- host_is_superhost - Whether the host is a superhost or not (Boolean)\n",
    "- multi - whether the listing have multiple rooms (Boolean)\n",
    "- business - Whether the listing is for business purposes or not (Boolean)\n",
    "- cleanliness_rating - The cleanliness rating of the listing (Numeric)\n",
    "- guest_satisfaction_overall - The overall guest satisfaction rating of the listing (Numeric)\n",
    "- bedrooms - The number of bedrooms in the listing (Numeric)\n",
    "- dist - The distance from the city centre (Numeric)\n",
    "- metro_dist - The distance from the nearest metro station (Numeric)\n",
    "- lng - The longitude of the listing (Numeric)\n",
    "- lat - The latitude of the listing (Numeric)\n",
    "\n",
    "#### Other info:\n",
    "There are 2833 rows in the dataset with 15 columns with 19 rows dropped, so there are 2814 rows in the dataset for analysis. There are no null values in the dataset, so imputation is not needed."
   ]
  },
  {
   "cell_type": "markdown",
   "id": "6c236bb2-8fb5-435e-85ac-111f193e3795",
   "metadata": {},
   "source": [
    "### Analyzing the listings based on room types"
   ]
  },
  {
   "cell_type": "code",
   "execution_count": 122,
   "id": "e5a81d7d-395b-49e0-8e03-7031bae53d69",
   "metadata": {},
   "outputs": [
    {
     "data": {
      "text/plain": [
       "[Text(0.5, 0, 'count'),\n",
       " Text(0, 0.5, 'room type'),\n",
       " Text(0.5, 1.0, 'room_type histogram')]"
      ]
     },
     "execution_count": 122,
     "metadata": {},
     "output_type": "execute_result"
    },
    {
     "data": {
      "image/png": "[encoded data removed]",
      "text/plain": [
       "<Figure size 360x144 with 1 Axes>"
      ]
     },
     "metadata": {
      "needs_background": "light"
     },
     "output_type": "display_data"
    }
   ],
   "source": [
    "df[\"room_type\"].value_counts().plot.barh(figsize=(5,2)).set(\n",
    "    xlabel=\"count\", ylabel=\"room type\", title=\"room_type histogram\"\n",
    ")"
   ]
  },
  {
   "cell_type": "markdown",
   "id": "0b00d340-6238-43bd-90f5-005437e8383d",
   "metadata": {},
   "source": [
    "Most of the listings are private room and it is four times more frequent than the entire home/apt. Shared room is the least of room_type available."
   ]
  },
  {
   "cell_type": "code",
   "execution_count": 123,
   "id": "1743a47c-8d67-4817-831f-acee865b8a96",
   "metadata": {},
   "outputs": [
    {
     "data": {
      "text/plain": [
       "[Text(0.5, 0, 'person_capacity'),\n",
       " Text(0, 0.5, 'count'),\n",
       " Text(0.5, 1.0, 'person capacity count histogram')]"
      ]
     },
     "execution_count": 123,
     "metadata": {},
     "output_type": "execute_result"
    },
    {
     "data": {
      "image/png": "[encoded data removed]",
      "text/plain": [
       "<Figure size 216x216 with 1 Axes>"
      ]
     },
     "metadata": {
      "needs_background": "light"
     },
     "output_type": "display_data"
    }
   ],
   "source": [
    "df[\"person_capacity\"].value_counts().plot.bar(figsize=(3,3)).set(\n",
    "    xlabel=\"person_capacity\", ylabel=\"count\", title=\"person capacity count histogram\"\n",
    ")"
   ]
  },
  {
   "cell_type": "markdown",
   "id": "ec5629f8-cae1-474c-a3be-baaa134b7f86",
   "metadata": {},
   "source": [
    "Two person capacity has the most availability, followed by four person capacity. It is surprising that there are limited choices for more than two people."
   ]
  },
  {
   "cell_type": "markdown",
   "id": "b87dd910-4d2a-45ae-b9ee-a462a4895065",
   "metadata": {},
   "source": [
    "### Analyzing the prices for the different room and person capacity."
   ]
  },
  {
   "cell_type": "code",
   "execution_count": 124,
   "id": "12d7fcfc-8652-42a4-9b65-1b201fc344c3",
   "metadata": {},
   "outputs": [
    {
     "data": {
      "image/png": "[encoded data removed]",
      "text/plain": [
       "<Figure size 432x216 with 2 Axes>"
      ]
     },
     "metadata": {
      "needs_background": "light"
     },
     "output_type": "display_data"
    }
   ],
   "source": [
    "plt.figure(figsize=(6, 3))\n",
    "df_pivot = df.pivot_table(values='realSum', index='room_type', columns='person_capacity', aggfunc='mean')\n",
    "sns.heatmap(df_pivot, annot=True, fmt='.1f', cmap='Blues')\n",
    "plt.suptitle('Mean Price')\n",
    "plt.xlabel('person_capacity')\n",
    "plt.ylabel('room_type')\n",
    "plt.show()"
   ]
  },
  {
   "cell_type": "markdown",
   "id": "5fe14140-6e72-417a-9847-a2f10fe7e699",
   "metadata": {},
   "source": [
    "It is to be expected that shared room is the cheapest especially if it has a 2 person capacity, and the second cheapest is a shared room with 137.6 with a 4 person capacity. Thus, a shared room is the cheapest. The most expensive is an entire home/apartment for a two person capacity. From the trend of the private room type, more person capacity is more expensive. However, this trend does not apply to the entire home/apartment room type. A two person capacity is more expensive than a six person capacity, but after three person capacity, the more people in the room type, the more expensive it is. This may be because the host of the Airbnb believe that privacy will make people pay more. Then, we can look into customer's satisfaction with room_type and person_capacity."
   ]
  },
  {
   "cell_type": "code",
   "execution_count": 125,
   "id": "1bc26cc6-8ee3-4536-9bb8-524fedf3a377",
   "metadata": {},
   "outputs": [
    {
     "data": {
      "image/png": "[encoded data removed]",
      "text/plain": [
       "<Figure size 432x216 with 2 Axes>"
      ]
     },
     "metadata": {
      "needs_background": "light"
     },
     "output_type": "display_data"
    }
   ],
   "source": [
    "plt.figure(figsize=(6, 3))\n",
    "df_pivot = df.pivot_table(values='guest_satisfaction_overall', index='room_type', columns='person_capacity', aggfunc='mean')\n",
    "sns.heatmap(df_pivot, annot=True, fmt='.1f', cmap='Reds')\n",
    "plt.suptitle('satisfaction')\n",
    "plt.xlabel('person_capacity')\n",
    "plt.ylabel('room_type')\n",
    "plt.show()"
   ]
  },
  {
   "cell_type": "markdown",
   "id": "83267c35-4542-4f28-9b18-3af6dd0a8a76",
   "metadata": {},
   "source": [
    "The previous suggestion that privacy will create more satisfaction doesn't seem to apply. The room types or the person capacity doesn't affect the satisfaction of the guests. There might be other reason that affects the guests's satisfaction more."
   ]
  },
  {
   "cell_type": "markdown",
   "id": "b615a114-ef9e-4aff-9c1a-5355cec6aa5f",
   "metadata": {},
   "source": [
    "### Analyzing the price for geographical location in Barcelona"
   ]
  },
  {
   "cell_type": "code",
   "execution_count": 126,
   "id": "03464f19-7434-4cc8-94eb-918bb16543d9",
   "metadata": {},
   "outputs": [
    {
     "data": {
      "image/png": "[encoded data removed]",
      "text/plain": [
       "<Figure size 1152x360 with 4 Axes>"
      ]
     },
     "metadata": {
      "needs_background": "light"
     },
     "output_type": "display_data"
    }
   ],
   "source": [
    "fig, axes = plt.subplots(nrows=1, ncols=2, figsize=(16,5))\n",
    "\n",
    "df.plot(kind=\"scatter\", x=\"lng\", y=\"lat\", c=\"realSum\", cmap=plt.get_cmap(\"jet\"), colorbar=True, alpha=0.3, ax=axes[0])\n",
    "df.plot(kind=\"scatter\", x=\"lng\", y=\"lat\", c=\"dist\", cmap=plt.get_cmap(\"jet\"), colorbar=True, alpha=0.3, ax=axes[1])\n",
    "plt.show()"
   ]
  },
  {
   "cell_type": "markdown",
   "id": "8a83d2a2-afdb-4b77-b366-53abc1d0413f",
   "metadata": {},
   "source": [
    "From the graph above, the further it is from the city center, the cheaper it gets. It is expected that the price of Airbnb is cheaper in places far from the city center because house/apartment prices are more expensive in the city center. The most expensive Airbnb is concentrated in the city center while other less expensive place is still arround the city center. Although we can see some expensive place far from the city center, we can see that the city center are inclined to be expensive."
   ]
  },
  {
   "cell_type": "markdown",
   "id": "dc6645b9-35c2-4c14-9d04-ac274a46f8af",
   "metadata": {},
   "source": [
    "### Correlation"
   ]
  },
  {
   "cell_type": "code",
   "execution_count": 127,
   "id": "3dfe069b",
   "metadata": {},
   "outputs": [
    {
     "data": {
      "text/plain": [
       "<AxesSubplot:>"
      ]
     },
     "execution_count": 127,
     "metadata": {},
     "output_type": "execute_result"
    },
    {
     "data": {
      "image/png": "[encoded data removed]",
      "text/plain": [
       "<Figure size 864x576 with 2 Axes>"
      ]
     },
     "metadata": {
      "needs_background": "light"
     },
     "output_type": "display_data"
    }
   ],
   "source": [
    "plt.figure(figsize=(12, 8))\n",
    "sns.heatmap(df.corr())"
   ]
  },
  {
   "cell_type": "code",
   "execution_count": 128,
   "id": "e58082db",
   "metadata": {},
   "outputs": [
    {
     "name": "stdout",
     "output_type": "stream",
     "text": [
      "['person_capacity', 'business', 'cleanliness_rating', 'bedrooms', 'lng']\n"
     ]
    }
   ],
   "source": [
    "# Select columns where there are more than 0.3 correlations with realSum\n",
    "\n",
    "matrix = df.corr()\n",
    "price = matrix['realSum']\n",
    "selected_columns = price[price > 0].index.tolist()\n",
    "selected_columns.remove('realSum')\n",
    "print(selected_columns)"
   ]
  },
  {
   "cell_type": "markdown",
   "id": "23cd9a2b",
   "metadata": {},
   "source": [
    "## Building the Model"
   ]
  },
  {
   "cell_type": "markdown",
   "id": "f03ecab4",
   "metadata": {},
   "source": [
    "### Split the data into training and testing set"
   ]
  },
  {
   "cell_type": "code",
   "execution_count": 129,
   "id": "f092344e",
   "metadata": {},
   "outputs": [],
   "source": [
    "# Features and target\n",
    "x = df[selected_columns]\n",
    "y = df['realSum']\n",
    "\n",
    "x_train, x_test, y_train, y_test = train_test_split(x, y, test_size=0.2, random_state=42)"
   ]
  },
  {
   "cell_type": "markdown",
   "id": "49d77393",
   "metadata": {},
   "source": [
    "### Linear Regression - ridge regression"
   ]
  },
  {
   "cell_type": "code",
   "execution_count": 130,
   "id": "d3e4ec2a",
   "metadata": {},
   "outputs": [
    {
     "data": {
      "text/html": [
       "<div>\n",
       "<style scoped>\n",
       "    .dataframe tbody tr th:only-of-type {\n",
       "        vertical-align: middle;\n",
       "    }\n",
       "\n",
       "    .dataframe tbody tr th {\n",
       "        vertical-align: top;\n",
       "    }\n",
       "\n",
       "    .dataframe thead th {\n",
       "        text-align: right;\n",
       "    }\n",
       "</style>\n",
       "<table border=\"1\" class=\"dataframe\">\n",
       "  <thead>\n",
       "    <tr style=\"text-align: right;\">\n",
       "      <th></th>\n",
       "      <th>alpha</th>\n",
       "      <th>mean_train_scores</th>\n",
       "      <th>mean_cv_scores</th>\n",
       "    </tr>\n",
       "  </thead>\n",
       "  <tbody>\n",
       "    <tr>\n",
       "      <th>0</th>\n",
       "      <td>0.01</td>\n",
       "      <td>0.629451</td>\n",
       "      <td>0.624950</td>\n",
       "    </tr>\n",
       "    <tr>\n",
       "      <th>1</th>\n",
       "      <td>0.10</td>\n",
       "      <td>0.629408</td>\n",
       "      <td>0.624930</td>\n",
       "    </tr>\n",
       "    <tr>\n",
       "      <th>2</th>\n",
       "      <td>1.00</td>\n",
       "      <td>0.628556</td>\n",
       "      <td>0.624175</td>\n",
       "    </tr>\n",
       "    <tr>\n",
       "      <th>3</th>\n",
       "      <td>10.00</td>\n",
       "      <td>0.627273</td>\n",
       "      <td>0.623068</td>\n",
       "    </tr>\n",
       "    <tr>\n",
       "      <th>4</th>\n",
       "      <td>100.00</td>\n",
       "      <td>0.625736</td>\n",
       "      <td>0.622315</td>\n",
       "    </tr>\n",
       "    <tr>\n",
       "      <th>5</th>\n",
       "      <td>1000.00</td>\n",
       "      <td>0.573576</td>\n",
       "      <td>0.571684</td>\n",
       "    </tr>\n",
       "  </tbody>\n",
       "</table>\n",
       "</div>"
      ],
      "text/plain": [
       "     alpha  mean_train_scores  mean_cv_scores\n",
       "0     0.01           0.629451        0.624950\n",
       "1     0.10           0.629408        0.624930\n",
       "2     1.00           0.628556        0.624175\n",
       "3    10.00           0.627273        0.623068\n",
       "4   100.00           0.625736        0.622315\n",
       "5  1000.00           0.573576        0.571684"
      ]
     },
     "execution_count": 130,
     "metadata": {},
     "output_type": "execute_result"
    }
   ],
   "source": [
    "scores_dict = {\n",
    "    \"alpha\": 10.0 ** np.arange(-2, 4, 1),\n",
    "    \"mean_train_scores\": list(),\n",
    "    \"mean_cv_scores\": list(),\n",
    "}\n",
    "for alpha in scores_dict[\"alpha\"]:\n",
    "    ridge = Ridge(alpha=alpha)\n",
    "    scores = cross_validate(ridge, x_train, y_train, return_train_score=True)\n",
    "    scores_dict[\"mean_train_scores\"].append(scores[\"train_score\"].mean())\n",
    "    scores_dict[\"mean_cv_scores\"].append(scores[\"test_score\"].mean())\n",
    "\n",
    "results_df = pd.DataFrame(scores_dict)\n",
    "results_df"
   ]
  },
  {
   "cell_type": "markdown",
   "id": "256ce560",
   "metadata": {},
   "source": [
    "The results doesn't look good. We can try to use standardScaler() because we have different units and ensure that each feature is scalable."
   ]
  },
  {
   "cell_type": "code",
   "execution_count": 131,
   "id": "acf5ec19",
   "metadata": {},
   "outputs": [
    {
     "data": {
      "text/html": [
       "<div>\n",
       "<style scoped>\n",
       "    .dataframe tbody tr th:only-of-type {\n",
       "        vertical-align: middle;\n",
       "    }\n",
       "\n",
       "    .dataframe tbody tr th {\n",
       "        vertical-align: top;\n",
       "    }\n",
       "\n",
       "    .dataframe thead th {\n",
       "        text-align: right;\n",
       "    }\n",
       "</style>\n",
       "<table border=\"1\" class=\"dataframe\">\n",
       "  <thead>\n",
       "    <tr style=\"text-align: right;\">\n",
       "      <th></th>\n",
       "      <th>alpha</th>\n",
       "      <th>mean_train_scores</th>\n",
       "      <th>mean_cv_scores</th>\n",
       "    </tr>\n",
       "  </thead>\n",
       "  <tbody>\n",
       "    <tr>\n",
       "      <th>0</th>\n",
       "      <td>0.01</td>\n",
       "      <td>0.629451</td>\n",
       "      <td>0.624948</td>\n",
       "    </tr>\n",
       "    <tr>\n",
       "      <th>1</th>\n",
       "      <td>0.10</td>\n",
       "      <td>0.629451</td>\n",
       "      <td>0.624948</td>\n",
       "    </tr>\n",
       "    <tr>\n",
       "      <th>2</th>\n",
       "      <td>1.00</td>\n",
       "      <td>0.629451</td>\n",
       "      <td>0.624951</td>\n",
       "    </tr>\n",
       "    <tr>\n",
       "      <th>3</th>\n",
       "      <td>10.00</td>\n",
       "      <td>0.629425</td>\n",
       "      <td>0.624953</td>\n",
       "    </tr>\n",
       "    <tr>\n",
       "      <th>4</th>\n",
       "      <td>100.00</td>\n",
       "      <td>0.627492</td>\n",
       "      <td>0.623264</td>\n",
       "    </tr>\n",
       "    <tr>\n",
       "      <th>5</th>\n",
       "      <td>1000.00</td>\n",
       "      <td>0.575788</td>\n",
       "      <td>0.572857</td>\n",
       "    </tr>\n",
       "  </tbody>\n",
       "</table>\n",
       "</div>"
      ],
      "text/plain": [
       "     alpha  mean_train_scores  mean_cv_scores\n",
       "0     0.01           0.629451        0.624948\n",
       "1     0.10           0.629451        0.624948\n",
       "2     1.00           0.629451        0.624951\n",
       "3    10.00           0.629425        0.624953\n",
       "4   100.00           0.627492        0.623264\n",
       "5  1000.00           0.575788        0.572857"
      ]
     },
     "execution_count": 131,
     "metadata": {},
     "output_type": "execute_result"
    }
   ],
   "source": [
    "scores_dict = {\n",
    "    \"alpha\": 10.0 ** np.arange(-2, 4, 1),\n",
    "    \"mean_train_scores\": list(),\n",
    "    \"mean_cv_scores\": list(),\n",
    "}\n",
    "for alpha in scores_dict[\"alpha\"]:\n",
    "    pipe_ridge = make_pipeline(StandardScaler(), Ridge(alpha=alpha))\n",
    "    scores = cross_validate(pipe_ridge, x_train, y_train, return_train_score=True)\n",
    "    scores_dict[\"mean_train_scores\"].append(scores[\"train_score\"].mean())\n",
    "    scores_dict[\"mean_cv_scores\"].append(scores[\"test_score\"].mean())\n",
    "\n",
    "results_df = pd.DataFrame(scores_dict)\n",
    "results_df"
   ]
  },
  {
   "cell_type": "markdown",
   "id": "cd27d252",
   "metadata": {},
   "source": [
    "Since the values doesn't differ much, the issue is not in the units. We might need to do feature engineering and selection."
   ]
  },
  {
   "cell_type": "markdown",
   "id": "ad231f49",
   "metadata": {},
   "source": [
    "### Decision Trees"
   ]
  },
  {
   "cell_type": "markdown",
   "id": "1ae765a2",
   "metadata": {},
   "source": []
  },
  {
   "cell_type": "markdown",
   "id": "485a1e2b",
   "metadata": {},
   "source": [
    "### KNN"
   ]
  },
  {
   "cell_type": "markdown",
   "id": "9b8d1fd0",
   "metadata": {},
   "source": []
  },
  {
   "cell_type": "markdown",
   "id": "07daeb69",
   "metadata": {},
   "source": [
    "## Evaluation"
   ]
  },
  {
   "cell_type": "markdown",
   "id": "b27d1a97",
   "metadata": {},
   "source": []
  }
 ],
 "metadata": {
  "kernelspec": {
   "display_name": "Python 3 (ipykernel)",
   "language": "python",
   "name": "python3"
  },
  "language_info": {
   "codemirror_mode": {
    "name": "ipython",
    "version": 3
   },
   "file_extension": ".py",
   "mimetype": "text/x-python",
   "name": "python",
   "nbconvert_exporter": "python",
   "pygments_lexer": "ipython3",
   "version": "3.7.9"
  }
 },
 "nbformat": 4,
 "nbformat_minor": 5
}
